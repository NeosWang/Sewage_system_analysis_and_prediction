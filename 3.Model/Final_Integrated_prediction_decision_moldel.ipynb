{
 "cells": [
  {
   "cell_type": "code",
   "execution_count": 1,
   "metadata": {},
   "outputs": [],
   "source": [
    "import pandas as pd\n",
    "from tqdm import tqdm\n",
    "from datetime import datetime, timedelta\n",
    "import numpy as np\n",
    "import holidays\n",
    "\n",
    "nl_holidays = holidays.NL()\n",
    "from datetime import datetime, timedelta\n",
    "\n",
    "import matplotlib.pyplot as plt\n",
    "\n",
    "import sys\n",
    "sys.path.append(\"../\")\n",
    "import asset.MyPlot as mp\n",
    "import asset.DataSupply as ds\n",
    "\n",
    "import warnings\n",
    "warnings.filterwarnings(\"ignore\")"
   ]
  },
  {
   "cell_type": "markdown",
   "metadata": {},
   "source": [
    "## Get specifications of sewage from old data(until 2019-08-31)\n",
    "## Training model on new data(from 2019-09-01)"
   ]
  },
  {
   "cell_type": "markdown",
   "metadata": {},
   "source": [
    "#### Get the minimum level(m) and volume(m3) per meter level for Bokhoven, Haarsteeg, Oude engelenseweg"
   ]
  },
  {
   "cell_type": "code",
   "execution_count": 2,
   "metadata": {},
   "outputs": [],
   "source": [
    "# for save time, the code in this cell is exactly same as the result from the cell blw\n",
    "\n",
    "specification = {\n",
    "    \"bokhoven\": {\"min_level\": -0.6, \"m3_per_m\": 4.348602514328682},\n",
    "    \"haarsteeg\": {\"min_level\": -4.1, \"m3_per_m\": 87.85909502482393},\n",
    "    \"oude_engelenseweg\": {\"min_level\": 0.0, \"m3_per_m\": 3.5645260088514346},\n",
    "}"
   ]
  },
  {
   "cell_type": "code",
   "execution_count": 3,
   "metadata": {},
   "outputs": [],
   "source": [
    "# # your attention, time consuming\n",
    "\n",
    "# specification = ds.GetSpecification([\"bokhoven\",\"haarsteeg\",\"oude_engelenseweg\"])"
   ]
  },
  {
   "cell_type": "code",
   "execution_count": 4,
   "metadata": {},
   "outputs": [],
   "source": [
    "pumps = {\n",
    "    \"bokhoven\": {\"maxSpeed\": 20, \"capacity\": 49},\n",
    "    \"haarsteeg\": {\"maxSpeed\": 3600, \"capacity\": 2350},\n",
    "    \"oude_engelenseweg\": {\"maxSpeed\": 4000, \"capacity\": 1000},\n",
    "}"
   ]
  },
  {
   "cell_type": "code",
   "execution_count": 5,
   "metadata": {},
   "outputs": [
    {
     "name": "stderr",
     "output_type": "stream",
     "text": [
      "100%|██████████| 22/22 [00:10<00:00,  2.04it/s]\n"
     ]
    }
   ],
   "source": [
    "df_rain_historical, dct_areas = ds.GetRainfallByPumps(\n",
    "    [\"bokhoven\", \"haarsteeg\", \"oude_engelenseweg\"]\n",
    ")"
   ]
  },
  {
   "cell_type": "markdown",
   "metadata": {},
   "source": [
    "#### Generate Data for training model"
   ]
  },
  {
   "cell_type": "code",
   "execution_count": 8,
   "metadata": {},
   "outputs": [],
   "source": [
    "# for save time, the code in this cell is exactly same as the result from the cell blw\n",
    "\n",
    "data_bokhoven = pd.read_csv(\"../asset/data/model_data_bokhoven.csv\", index_col=0, parse_dates=True)\n",
    "data_haarsteeg = pd.read_csv(\n",
    "    \"../asset/data/model_data_haarsteeg.csv\", index_col=0, parse_dates=True\n",
    ")\n",
    "data_oude_engelenseweg = pd.read_csv(\n",
    "    \"../asset/data/model_data_oude_engelenseweg.csv\", index_col=0, parse_dates=True\n",
    ")"
   ]
  },
  {
   "cell_type": "code",
   "execution_count": 6,
   "metadata": {},
   "outputs": [
    {
     "name": "stderr",
     "output_type": "stream",
     "text": [
      "100%|██████████| 1/1 [00:00<00:00,  8.16it/s]\n",
      "100%|██████████| 1/1 [00:00<00:00, 26.63it/s]\n",
      "482395it [00:30, 15976.17it/s]\n",
      "482395it [00:51, 9309.63it/s] \n",
      "3169it [00:00, 11741.96it/s]\n"
     ]
    }
   ],
   "source": [
    "## your attention, time consuming\n",
    "\n",
    "# data_bokhoven = ds.GenerateMLdata(\n",
    "#     \"bokhoven\",\n",
    "#     specification[\"bokhoven\"][\"m3_per_m\"],\n",
    "#     specification[\"bokhoven\"][\"min_level\"],\n",
    "#     df_rain_historical,\n",
    "#     dct_areas,\n",
    "# )\n",
    "\n",
    "# data_haarsteeg = ds.GenerateMLdata(\n",
    "#     \"haarsteeg\",\n",
    "#     specification[\"haarsteeg\"][\"m3_per_m\"],\n",
    "#     specification[\"haarsteeg\"][\"min_level\"],\n",
    "#     df_rain_historical,\n",
    "#     dct_areas,\n",
    "# )\n",
    "\n",
    "# data_oude_engelenseweg = ds.GenerateMLdata(\n",
    "#     \"oude_engelenseweg\",\n",
    "#     specification[\"oude_engelenseweg\"][\"m3_per_m\"],\n",
    "#     specification[\"oude_engelenseweg\"][\"min_level\"],\n",
    "#     df_rain_historical,\n",
    "#     dct_areas,\n",
    "# )"
   ]
  },
  {
   "cell_type": "code",
   "execution_count": 10,
   "metadata": {},
   "outputs": [
    {
     "data": {
      "image/png": "[encoded data removed]",
      "text/plain": [
       "<Figure size 432x288 with 1 Axes>"
      ]
     },
     "metadata": {
      "needs_background": "light"
     },
     "output_type": "display_data"
    }
   ],
   "source": [
    "mp.ValueDistributionPlot(data_oude_engelenseweg[\"oude_engelenseweg_level_value\"])"
   ]
  },
  {
   "cell_type": "code",
   "execution_count": 11,
   "metadata": {},
   "outputs": [],
   "source": [
    "data = data_oude_engelenseweg.join(data_haarsteeg, how=\"inner\").join(\n",
    "    data_bokhoven, how=\"inner\"\n",
    ")"
   ]
  },
  {
   "cell_type": "code",
   "execution_count": 12,
   "metadata": {},
   "outputs": [],
   "source": [
    "data = data[1:]\n",
    "data[\"total_flow_value\"] = (\n",
    "    data[\"oude_engelenseweg_flow_value\"]\n",
    "    + data[\"bokhoven_flow_value\"]\n",
    "    + data[\"haarsteeg_flow_value\"]\n",
    ")"
   ]
  },
  {
   "cell_type": "code",
   "execution_count": 13,
   "metadata": {},
   "outputs": [
    {
     "data": {
      "text/html": [
       "<div>\n",
       "<style scoped>\n",
       "    .dataframe tbody tr th:only-of-type {\n",
       "        vertical-align: middle;\n",
       "    }\n",
       "\n",
       "    .dataframe tbody tr th {\n",
       "        vertical-align: top;\n",
       "    }\n",
       "\n",
       "    .dataframe thead th {\n",
       "        text-align: right;\n",
       "    }\n",
       "</style>\n",
       "<table border=\"1\" class=\"dataframe\">\n",
       "  <thead>\n",
       "    <tr style=\"text-align: right;\">\n",
       "      <th></th>\n",
       "      <th>oude_engelenseweg_in_flow_vol</th>\n",
       "      <th>oude_engelenseweg_flow_value</th>\n",
       "      <th>oude_engelenseweg_level_value</th>\n",
       "      <th>oude_engelenseweg_last_in_flow_vol</th>\n",
       "      <th>oude_engelenseweg_vol_remain</th>\n",
       "      <th>haarsteeg_in_flow_vol</th>\n",
       "      <th>haarsteeg_flow_value</th>\n",
       "      <th>haarsteeg_level_value</th>\n",
       "      <th>haarsteeg_last_in_flow_vol</th>\n",
       "      <th>haarsteeg_vol_remain</th>\n",
       "      <th>...</th>\n",
       "      <th>bokhoven_flow_value</th>\n",
       "      <th>bokhoven_level_value</th>\n",
       "      <th>bokhoven_last_in_flow_vol</th>\n",
       "      <th>bokhoven_vol_remain</th>\n",
       "      <th>total_flow_value</th>\n",
       "      <th>hour</th>\n",
       "      <th>day</th>\n",
       "      <th>weekday</th>\n",
       "      <th>month</th>\n",
       "      <th>is_holiday</th>\n",
       "    </tr>\n",
       "    <tr>\n",
       "      <th>end_hour</th>\n",
       "      <th></th>\n",
       "      <th></th>\n",
       "      <th></th>\n",
       "      <th></th>\n",
       "      <th></th>\n",
       "      <th></th>\n",
       "      <th></th>\n",
       "      <th></th>\n",
       "      <th></th>\n",
       "      <th></th>\n",
       "      <th></th>\n",
       "      <th></th>\n",
       "      <th></th>\n",
       "      <th></th>\n",
       "      <th></th>\n",
       "      <th></th>\n",
       "      <th></th>\n",
       "      <th></th>\n",
       "      <th></th>\n",
       "      <th></th>\n",
       "      <th></th>\n",
       "    </tr>\n",
       "  </thead>\n",
       "  <tbody>\n",
       "    <tr>\n",
       "      <td>2019-09-01 20:00:00</td>\n",
       "      <td>673.460157</td>\n",
       "      <td>681.009167</td>\n",
       "      <td>221.067</td>\n",
       "      <td>426.794957</td>\n",
       "      <td>787.999071</td>\n",
       "      <td>216.133374</td>\n",
       "      <td>233.197500</td>\n",
       "      <td>-1.90</td>\n",
       "      <td>359.490130</td>\n",
       "      <td>193.290009</td>\n",
       "      <td>...</td>\n",
       "      <td>3.0</td>\n",
       "      <td>-0.120000</td>\n",
       "      <td>1.493020</td>\n",
       "      <td>2.087329</td>\n",
       "      <td>917.206667</td>\n",
       "      <td>20</td>\n",
       "      <td>1</td>\n",
       "      <td>6</td>\n",
       "      <td>9</td>\n",
       "      <td>0</td>\n",
       "    </tr>\n",
       "    <tr>\n",
       "      <td>2019-09-01 21:00:00</td>\n",
       "      <td>409.207586</td>\n",
       "      <td>492.535833</td>\n",
       "      <td>246.933</td>\n",
       "      <td>673.460157</td>\n",
       "      <td>880.199101</td>\n",
       "      <td>556.148072</td>\n",
       "      <td>476.507167</td>\n",
       "      <td>-1.97</td>\n",
       "      <td>216.133374</td>\n",
       "      <td>187.139872</td>\n",
       "      <td>...</td>\n",
       "      <td>0.0</td>\n",
       "      <td>0.423333</td>\n",
       "      <td>1.466006</td>\n",
       "      <td>4.450070</td>\n",
       "      <td>969.043000</td>\n",
       "      <td>21</td>\n",
       "      <td>1</td>\n",
       "      <td>6</td>\n",
       "      <td>9</td>\n",
       "      <td>0</td>\n",
       "    </tr>\n",
       "    <tr>\n",
       "      <td>2019-09-03 04:00:00</td>\n",
       "      <td>198.665293</td>\n",
       "      <td>175.769667</td>\n",
       "      <td>231.067</td>\n",
       "      <td>409.207586</td>\n",
       "      <td>823.644331</td>\n",
       "      <td>498.600364</td>\n",
       "      <td>343.505333</td>\n",
       "      <td>-2.42</td>\n",
       "      <td>556.148072</td>\n",
       "      <td>147.603280</td>\n",
       "      <td>...</td>\n",
       "      <td>0.0</td>\n",
       "      <td>-0.105714</td>\n",
       "      <td>0.556438</td>\n",
       "      <td>2.149452</td>\n",
       "      <td>519.275000</td>\n",
       "      <td>4</td>\n",
       "      <td>3</td>\n",
       "      <td>1</td>\n",
       "      <td>9</td>\n",
       "      <td>0</td>\n",
       "    </tr>\n",
       "  </tbody>\n",
       "</table>\n",
       "<p>3 rows × 21 columns</p>\n",
       "</div>"
      ],
      "text/plain": [
       "                     oude_engelenseweg_in_flow_vol  \\\n",
       "end_hour                                             \n",
       "2019-09-01 20:00:00                     673.460157   \n",
       "2019-09-01 21:00:00                     409.207586   \n",
       "2019-09-03 04:00:00                     198.665293   \n",
       "\n",
       "                     oude_engelenseweg_flow_value  \\\n",
       "end_hour                                            \n",
       "2019-09-01 20:00:00                    681.009167   \n",
       "2019-09-01 21:00:00                    492.535833   \n",
       "2019-09-03 04:00:00                    175.769667   \n",
       "\n",
       "                     oude_engelenseweg_level_value  \\\n",
       "end_hour                                             \n",
       "2019-09-01 20:00:00                        221.067   \n",
       "2019-09-01 21:00:00                        246.933   \n",
       "2019-09-03 04:00:00                        231.067   \n",
       "\n",
       "                     oude_engelenseweg_last_in_flow_vol  \\\n",
       "end_hour                                                  \n",
       "2019-09-01 20:00:00                          426.794957   \n",
       "2019-09-01 21:00:00                          673.460157   \n",
       "2019-09-03 04:00:00                          409.207586   \n",
       "\n",
       "                     oude_engelenseweg_vol_remain  haarsteeg_in_flow_vol  \\\n",
       "end_hour                                                                   \n",
       "2019-09-01 20:00:00                    787.999071             216.133374   \n",
       "2019-09-01 21:00:00                    880.199101             556.148072   \n",
       "2019-09-03 04:00:00                    823.644331             498.600364   \n",
       "\n",
       "                     haarsteeg_flow_value  haarsteeg_level_value  \\\n",
       "end_hour                                                           \n",
       "2019-09-01 20:00:00            233.197500                  -1.90   \n",
       "2019-09-01 21:00:00            476.507167                  -1.97   \n",
       "2019-09-03 04:00:00            343.505333                  -2.42   \n",
       "\n",
       "                     haarsteeg_last_in_flow_vol  haarsteeg_vol_remain  ...  \\\n",
       "end_hour                                                               ...   \n",
       "2019-09-01 20:00:00                  359.490130            193.290009  ...   \n",
       "2019-09-01 21:00:00                  216.133374            187.139872  ...   \n",
       "2019-09-03 04:00:00                  556.148072            147.603280  ...   \n",
       "\n",
       "                     bokhoven_flow_value  bokhoven_level_value  \\\n",
       "end_hour                                                         \n",
       "2019-09-01 20:00:00                  3.0             -0.120000   \n",
       "2019-09-01 21:00:00                  0.0              0.423333   \n",
       "2019-09-03 04:00:00                  0.0             -0.105714   \n",
       "\n",
       "                     bokhoven_last_in_flow_vol  bokhoven_vol_remain  \\\n",
       "end_hour                                                              \n",
       "2019-09-01 20:00:00                   1.493020             2.087329   \n",
       "2019-09-01 21:00:00                   1.466006             4.450070   \n",
       "2019-09-03 04:00:00                   0.556438             2.149452   \n",
       "\n",
       "                     total_flow_value  hour  day  weekday  month  is_holiday  \n",
       "end_hour                                                                      \n",
       "2019-09-01 20:00:00        917.206667    20    1        6      9           0  \n",
       "2019-09-01 21:00:00        969.043000    21    1        6      9           0  \n",
       "2019-09-03 04:00:00        519.275000     4    3        1      9           0  \n",
       "\n",
       "[3 rows x 21 columns]"
      ]
     },
     "execution_count": 13,
     "metadata": {},
     "output_type": "execute_result"
    }
   ],
   "source": [
    "data[\"hour\"] = data.index.hour\n",
    "data[\"day\"] = data.index.day\n",
    "data[\"weekday\"] = data.index.weekday\n",
    "data[\"month\"] = data.index.month\n",
    "data[\"is_holiday\"] = [int(i.date() in nl_holidays) for i in data.index]\n",
    "\n",
    "\n",
    "data.head(3)"
   ]
  },
  {
   "cell_type": "code",
   "execution_count": 14,
   "metadata": {},
   "outputs": [],
   "source": [
    "# estimators\n",
    "from sklearn.ensemble import RandomForestRegressor\n",
    "\n",
    "# evaluators\n",
    "from sklearn.model_selection import train_test_split\n",
    "from sklearn.metrics import mean_absolute_error\n"
   ]
  },
  {
   "cell_type": "code",
   "execution_count": 15,
   "metadata": {},
   "outputs": [],
   "source": [
    "names = [\"bokhoven\", \"haarsteeg\", \"oude_engelenseweg\"]\n",
    "\n",
    "dct_models = {}\n",
    "\n",
    "for n in names:\n",
    "    X_cols = [\n",
    "        f\"{n}_last_in_flow_vol\",\n",
    "        \"hour\",\n",
    "        \"day\",\n",
    "        \"weekday\",\n",
    "        \"month\",\n",
    "        \"is_holiday\",\n",
    "    ]\n",
    "    y_col = f\"{n}_in_flow_vol\"\n",
    "\n",
    "    X = data[X_cols]\n",
    "    y = data[y_col]\n",
    "\n",
    "    rf = RandomForestRegressor(\n",
    "        bootstrap=True,\n",
    "        random_state=666,\n",
    "        max_features=\"auto\",\n",
    "        n_estimators=50,\n",
    "        max_depth=10,\n",
    "        min_samples_split=30,\n",
    "        min_samples_leaf=1,\n",
    "    )\n",
    "    rf.fit(X, y)\n",
    "    y_predicted = rf.predict(X)\n",
    "\n",
    "    dct_models[n] = {\n",
    "        \"X_cols\": X_cols,\n",
    "        \"y_col\": y_col,\n",
    "        \"y_predicted\": y_predicted,\n",
    "        \"model\": rf,\n",
    "    }"
   ]
  },
  {
   "cell_type": "code",
   "execution_count": 16,
   "metadata": {},
   "outputs": [],
   "source": [
    "for n in dct_models:\n",
    "    col_name = dct_models[n][\"y_col\"]\n",
    "    data[f\"{col_name}_predicted\"] = dct_models[n][\"y_predicted\"]"
   ]
  },
  {
   "cell_type": "code",
   "execution_count": 17,
   "metadata": {},
   "outputs": [],
   "source": [
    "mean_flow = np.mean(data[\"total_flow_value\"])"
   ]
  },
  {
   "cell_type": "markdown",
   "metadata": {},
   "source": [
    "$flow_{mean}$ :$~~~~~~~$ expected total flow from pumps from average of hostorical\\\n",
    "$Cap_i$: $~~~~~~~~~~~~~~$ capacity of water($m^3$) in sewage system of $i$\\\n",
    "$S_{i(t)}$: $~~~~~~~~~~~~~~~~$water($m^3$) remaining in sewage system of $i$ on end of the current hour $t$\\\n",
    "$Vin_i(t+1)$: $~~~~~$water($m^3$) in-flow in sewage system of $i$ in next hour, (predicted)\\\n",
    "$x_i$: $~~~~~~~~~~~~~~~~~~~~$binary if switch-on pump $i$\\\n",
    "$i \\in \\{all~pump~stations\\}$\n",
    "\n",
    "$Min~~~~~|flow_{mean} - \\sum_i[x_i \\cdot (S_{i(t)}+Vin_{i(t+1)})]|$ \\\n",
    "$s.t~~~~~~~~S_{i(t+1)}+Vin_{i(t+2)} < Cap_i$\\\n",
    "$~~~~~~~~~~~~~x_i \\in {0,1}$\n"
   ]
  },
  {
   "cell_type": "code",
   "execution_count": 18,
   "metadata": {},
   "outputs": [],
   "source": [
    "class Pump:\n",
    "    def __init__(\n",
    "        self, name, date, maxSpeed, capacity, remainVol, lastInflowVol, X_cols, model\n",
    "    ):\n",
    "        self.name = name\n",
    "        self.date = date\n",
    "        self.maxSpeed = maxSpeed\n",
    "        self.capacity = capacity\n",
    "        self.remainVol = remainVol\n",
    "        self.lastInflowVol = lastInflowVol\n",
    "        self.X_cols = X_cols\n",
    "        self.model = model\n",
    "        self.nextInflowVol = self.GetNextInflowVol()\n",
    "\n",
    "    def OneHourAfter(self):\n",
    "        self.date += timedelta(hours=1)\n",
    "        self.remainVol += self.nextInflowVol\n",
    "        self.nextInflowVol = self.GetNextInflowVol()\n",
    "\n",
    "    def GetNextInflowVol(self):\n",
    "        newDate = self.date + timedelta(hours=1)\n",
    "        dct = {f\"{self.name}_last_in_flow_vol\": self.lastInflowVol}\n",
    "        dct[\"hour\"] = newDate.hour\n",
    "        dct[\"day\"] = newDate.day\n",
    "        dct[\"weekday\"] = newDate.weekday()\n",
    "        dct[\"month\"] = newDate.month\n",
    "        dct[\"is_holiday\"] = int(newDate.date() in nl_holidays)\n",
    "        df = pd.DataFrame.from_dict(dct, orient=\"index\").T\n",
    "        return self.model.predict(df[self.X_cols])[0]\n",
    "\n",
    "    def WillOverflow(self):\n",
    "        return (self.remainVol + self.nextInflowVol > self.capacity)or (self.remainVol + self.nextInflowVol>1000)\n",
    "\n",
    "    def RunPump(self, toRun):\n",
    "        if not toRun:\n",
    "            return 0\n",
    "        out_flow = 0\n",
    "        if self.maxSpeed > self.remainVol:\n",
    "            out_flow = self.remainVol\n",
    "            self.remainVol = 0\n",
    "        else:\n",
    "            out_flow = self.maxSpeed\n",
    "            self.remainVol -= self.maxSpeed\n",
    "        return out_flow\n",
    "\n",
    "\n",
    "class PumpingSystem:\n",
    "    def __init__(self, mean_flow, dct_pumps, idx, row):\n",
    "        self.mean_flow = mean_flow\n",
    "        self.pumps = dict()\n",
    "        self.date = idx\n",
    "        for p in dct_pumps:\n",
    "            self.pumps[p] = Pump(\n",
    "                p,\n",
    "                idx,\n",
    "                dct_pumps[p][\"maxSpeed\"],\n",
    "                dct_pumps[p][\"capacity\"],\n",
    "                row[f\"{p}_vol_remain\"],\n",
    "                row[f\"{n}_in_flow_vol\"],\n",
    "                dct_models[p][\"X_cols\"],\n",
    "                dct_models[p][\"model\"],\n",
    "            )\n",
    "\n",
    "    def OperatingPump(self):\n",
    "        self.date += timedelta(hours=1)\n",
    "        output = {\"time\": self.date}\n",
    "        decision = dict()\n",
    "        for p in self.pumps:\n",
    "            self.pumps[p].OneHourAfter()\n",
    "        lst_pumps = [self.pumps[p] for p in self.pumps]\n",
    "        lst_candidate_idx = self.GetCandidates(lst_pumps)\n",
    "        theBest = self.GetBestSelection(lst_pumps, lst_candidate_idx)\n",
    "        for i in range(len(lst_pumps)):\n",
    "            toRun = False\n",
    "            if i in theBest:\n",
    "                toRun = True\n",
    "            output[lst_pumps[i].name] = lst_pumps[i].RunPump(toRun)\n",
    "        return output\n",
    "\n",
    "    def GetBestSelection(self, lst_pumps, lst_candidate_idx):\n",
    "\n",
    "        best = None\n",
    "        abs_diff = float(\"inf\")\n",
    "        for cs in lst_candidate_idx:\n",
    "            add = 0\n",
    "            for i in cs:\n",
    "                add += lst_pumps[i].remainVol\n",
    "            if abs(add - self.mean_flow) < abs_diff:\n",
    "                abs_diff = abs(add - self.mean_flow)\n",
    "                best = cs\n",
    "        return best\n",
    "\n",
    "    def GetCandidates(self, lst_pumps):\n",
    "        comb = []\n",
    "        for i in range(3):\n",
    "            for j in range(i, 3):\n",
    "                comb.append(list(set([i, j])))\n",
    "        comb.append(list(range(0, 3)))\n",
    "        candidate = []\n",
    "        for i in range(len(lst_pumps)):\n",
    "            if lst_pumps[i].WillOverflow():  # shall not overflow\n",
    "                candidate.append(i)\n",
    "        if len(candidate) > 0:\n",
    "            output = []\n",
    "            for c in comb:\n",
    "                if all(item in c for item in candidate):\n",
    "                    output.append(c)\n",
    "            return output\n",
    "        return comb\n",
    "\n",
    "\n"
   ]
  },
  {
   "cell_type": "code",
   "execution_count": 19,
   "metadata": {},
   "outputs": [
    {
     "data": {
      "text/plain": [
       "<matplotlib.axes._subplots.AxesSubplot at 0x230853c4808>"
      ]
     },
     "execution_count": 19,
     "metadata": {},
     "output_type": "execute_result"
    },
    {
     "data": {
      "image/png": "[encoded data removed]",
      "text/plain": [
       "<Figure size 1152x432 with 1 Axes>"
      ]
     },
     "metadata": {
      "needs_background": "light"
     },
     "output_type": "display_data"
    }
   ],
   "source": [
    "start = pd.to_datetime(\"2020-05-12 11:00:00\")\n",
    "end = pd.to_datetime(\"2020-05-22 12:00:00\")\n",
    "\n",
    "sub_data = data[start:end][[\"total_flow_value\"]]\n",
    "\n",
    "row = data.loc[\n",
    "    start,\n",
    "]\n",
    "ps = PumpingSystem(mean_flow, pumps, start, row)\n",
    "\n",
    "prediction = []\n",
    "while start < end:\n",
    "    prediction.append(ps.OperatingPump())\n",
    "    start += timedelta(hours=1)\n",
    "\n",
    "\n",
    "df_pre = pd.DataFrame(prediction)\n",
    "df_pre.set_index(\"time\", inplace=True)\n",
    "df_pre[\"operating\"] = (\n",
    "    df_pre[\"bokhoven\"] + df_pre[\"haarsteeg\"] + df_pre[\"oude_engelenseweg\"]\n",
    ")\n",
    "df_pre = df_pre.join(sub_data, how=\"inner\")\n",
    "df_pre[[\"total_flow_value\", \"operating\"]].plot(figsize=(16, 6))"
   ]
  },
  {
   "cell_type": "code",
   "execution_count": 21,
   "metadata": {},
   "outputs": [
    {
     "data": {
      "text/plain": [
       "(222.41961122791378, 294.52471430791843)"
      ]
     },
     "execution_count": 21,
     "metadata": {},
     "output_type": "execute_result"
    }
   ],
   "source": [
    "np.std(df_pre[\"operating\"]), np.std(df_pre[\"total_flow_value\"])"
   ]
  },
  {
   "cell_type": "code",
   "execution_count": 22,
   "metadata": {},
   "outputs": [
    {
     "data": {
      "text/plain": [
       "(194745.74673474766, 200611.675)"
      ]
     },
     "execution_count": 22,
     "metadata": {},
     "output_type": "execute_result"
    }
   ],
   "source": [
    "np.sum(df_pre[\"operating\"]), np.sum(df_pre[\"total_flow_value\"])"
   ]
  },
  {
   "cell_type": "code",
   "execution_count": 23,
   "metadata": {},
   "outputs": [
    {
     "data": {
      "text/plain": [
       "[Timestamp('2020-05-12 12:00:00'),\n",
       " Timestamp('2020-05-16 12:00:00'),\n",
       " Timestamp('2020-05-16 14:00:00'),\n",
       " Timestamp('2020-05-17 12:00:00'),\n",
       " Timestamp('2020-05-17 14:00:00')]"
      ]
     },
     "execution_count": 23,
     "metadata": {},
     "output_type": "execute_result"
    }
   ],
   "source": [
    "df_pre[df_pre[\"haarsteeg\"] == 0].index.to_list()"
   ]
  },
  {
   "cell_type": "code",
   "execution_count": null,
   "metadata": {},
   "outputs": [],
   "source": []
  }
 ],
 "metadata": {
  "kernelspec": {
   "display_name": "Python 3",
   "language": "python",
   "name": "python3"
  },
  "language_info": {
   "codemirror_mode": {
    "name": "ipython",
    "version": 3
   },
   "file_extension": ".py",
   "mimetype": "text/x-python",
   "name": "python",
   "nbconvert_exporter": "python",
   "pygments_lexer": "ipython3",
   "version": "3.7.4"
  }
 },
 "nbformat": 4,
 "nbformat_minor": 2
}
