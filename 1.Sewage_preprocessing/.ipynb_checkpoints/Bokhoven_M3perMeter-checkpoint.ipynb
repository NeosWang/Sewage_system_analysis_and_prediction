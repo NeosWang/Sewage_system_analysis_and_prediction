{
 "cells": [
  {
   "cell_type": "code",
   "execution_count": 1,
   "metadata": {},
   "outputs": [],
   "source": [
    "import pandas as pd\n",
    "from tqdm import tqdm\n",
    "from datetime import datetime, timedelta\n",
    "import numpy as np\n",
    "\n",
    "import matplotlib.pyplot as plt\n",
    "\n",
    "import sys\n",
    "sys.path.append(\"../\")\n",
    "import asset.MyPlot as mp\n",
    "import asset.DataSupply as ds\n",
    "\n",
    "import warnings\n",
    "warnings.filterwarnings(\"ignore\")"
   ]
  },
  {
   "cell_type": "markdown",
   "metadata": {},
   "source": [
    "#### load rainfall, sewage area,  mark all dry day"
   ]
  },
  {
   "cell_type": "code",
   "execution_count": 2,
   "metadata": {},
   "outputs": [
    {
     "name": "stderr",
     "output_type": "stream",
     "text": [
      "100%|██████████| 22/22 [00:10<00:00,  2.19it/s]\n"
     ]
    },
    {
     "data": {
      "text/html": [
       "<div>\n",
       "<style scoped>\n",
       "    .dataframe tbody tr th:only-of-type {\n",
       "        vertical-align: middle;\n",
       "    }\n",
       "\n",
       "    .dataframe tbody tr th {\n",
       "        vertical-align: top;\n",
       "    }\n",
       "\n",
       "    .dataframe thead th {\n",
       "        text-align: right;\n",
       "    }\n",
       "</style>\n",
       "<table border=\"1\" class=\"dataframe\">\n",
       "  <thead>\n",
       "    <tr style=\"text-align: right;\">\n",
       "      <th></th>\n",
       "      <th>Bokhoven</th>\n",
       "      <th>Maasdijk</th>\n",
       "      <th>Bokhoven_dry</th>\n",
       "    </tr>\n",
       "    <tr>\n",
       "      <th>end</th>\n",
       "      <th></th>\n",
       "      <th></th>\n",
       "      <th></th>\n",
       "    </tr>\n",
       "  </thead>\n",
       "  <tbody>\n",
       "    <tr>\n",
       "      <td>2018-01-01 00:00:00</td>\n",
       "      <td>0.0000</td>\n",
       "      <td>0.0000</td>\n",
       "      <td>False</td>\n",
       "    </tr>\n",
       "    <tr>\n",
       "      <td>2018-01-01 01:00:00</td>\n",
       "      <td>0.0264</td>\n",
       "      <td>0.0319</td>\n",
       "      <td>False</td>\n",
       "    </tr>\n",
       "    <tr>\n",
       "      <td>2018-01-01 02:00:00</td>\n",
       "      <td>0.0224</td>\n",
       "      <td>0.0224</td>\n",
       "      <td>False</td>\n",
       "    </tr>\n",
       "    <tr>\n",
       "      <td>2018-01-01 03:00:00</td>\n",
       "      <td>0.0675</td>\n",
       "      <td>0.0734</td>\n",
       "      <td>False</td>\n",
       "    </tr>\n",
       "    <tr>\n",
       "      <td>2018-01-01 04:00:00</td>\n",
       "      <td>0.0273</td>\n",
       "      <td>0.0441</td>\n",
       "      <td>False</td>\n",
       "    </tr>\n",
       "  </tbody>\n",
       "</table>\n",
       "</div>"
      ],
      "text/plain": [
       "                     Bokhoven  Maasdijk  Bokhoven_dry\n",
       "end                                                  \n",
       "2018-01-01 00:00:00    0.0000    0.0000         False\n",
       "2018-01-01 01:00:00    0.0264    0.0319         False\n",
       "2018-01-01 02:00:00    0.0224    0.0224         False\n",
       "2018-01-01 03:00:00    0.0675    0.0734         False\n",
       "2018-01-01 04:00:00    0.0273    0.0441         False"
      ]
     },
     "execution_count": 2,
     "metadata": {},
     "output_type": "execute_result"
    }
   ],
   "source": [
    "df_rain_historical, dct_areas = ds.GetRainfallByPumps([\"bokhoven\"])\n",
    "location = dct_areas[\"bokhoven\"][0]\n",
    "target_col = f\"{location}_dry\"\n",
    "df_rain_historical = ds.MarkDryWeather(df_rain_historical, location)\n",
    "df_rain_historical.head()"
   ]
  },
  {
   "cell_type": "markdown",
   "metadata": {},
   "source": [
    "#### load and inner-join level and flow data"
   ]
  },
  {
   "cell_type": "code",
   "execution_count": 3,
   "metadata": {},
   "outputs": [
    {
     "name": "stderr",
     "output_type": "stream",
     "text": [
      "100%|██████████| 100/100 [00:16<00:00,  6.12it/s]\n",
      "100%|██████████| 100/100 [00:16<00:00,  6.16it/s]\n"
     ]
    }
   ],
   "source": [
    "df_Bokhoven_level_old = ds.GetData(\"Bokhoven\", isLevel = True, isNew = False)\n",
    "df_Bokhoven_flow_old = ds.GetData(\"Bokhoven\", False, False)"
   ]
  },
  {
   "cell_type": "code",
   "execution_count": 4,
   "metadata": {},
   "outputs": [
    {
     "data": {
      "text/html": [
       "<div>\n",
       "<style scoped>\n",
       "    .dataframe tbody tr th:only-of-type {\n",
       "        vertical-align: middle;\n",
       "    }\n",
       "\n",
       "    .dataframe tbody tr th {\n",
       "        vertical-align: top;\n",
       "    }\n",
       "\n",
       "    .dataframe thead th {\n",
       "        text-align: right;\n",
       "    }\n",
       "</style>\n",
       "<table border=\"1\" class=\"dataframe\">\n",
       "  <thead>\n",
       "    <tr style=\"text-align: right;\">\n",
       "      <th></th>\n",
       "      <th>level_quality</th>\n",
       "      <th>level_value</th>\n",
       "    </tr>\n",
       "    <tr>\n",
       "      <th>end</th>\n",
       "      <th></th>\n",
       "      <th></th>\n",
       "    </tr>\n",
       "  </thead>\n",
       "  <tbody>\n",
       "    <tr>\n",
       "      <td>2018-01-01 00:01:00</td>\n",
       "      <td>100</td>\n",
       "      <td>1.2</td>\n",
       "    </tr>\n",
       "    <tr>\n",
       "      <td>2018-01-01 00:02:00</td>\n",
       "      <td>100</td>\n",
       "      <td>1.2</td>\n",
       "    </tr>\n",
       "    <tr>\n",
       "      <td>2018-01-01 00:03:00</td>\n",
       "      <td>100</td>\n",
       "      <td>1.2</td>\n",
       "    </tr>\n",
       "  </tbody>\n",
       "</table>\n",
       "</div>"
      ],
      "text/plain": [
       "                     level_quality  level_value\n",
       "end                                            \n",
       "2018-01-01 00:01:00            100          1.2\n",
       "2018-01-01 00:02:00            100          1.2\n",
       "2018-01-01 00:03:00            100          1.2"
      ]
     },
     "execution_count": 4,
     "metadata": {},
     "output_type": "execute_result"
    }
   ],
   "source": [
    "df_Bokhoven_level_old.head(3)"
   ]
  },
  {
   "cell_type": "code",
   "execution_count": 5,
   "metadata": {},
   "outputs": [
    {
     "data": {
      "image/png": "[encoded data removed]",
      "text/plain": [
       "<Figure size 432x288 with 1 Axes>"
      ]
     },
     "metadata": {
      "needs_background": "light"
     },
     "output_type": "display_data"
    }
   ],
   "source": [
    "mp.ValueDistributionPlot(df_Bokhoven_level_old[\"level_value\"])"
   ]
  },
  {
   "cell_type": "code",
   "execution_count": 6,
   "metadata": {},
   "outputs": [
    {
     "data": {
      "text/html": [
       "<div>\n",
       "<style scoped>\n",
       "    .dataframe tbody tr th:only-of-type {\n",
       "        vertical-align: middle;\n",
       "    }\n",
       "\n",
       "    .dataframe tbody tr th {\n",
       "        vertical-align: top;\n",
       "    }\n",
       "\n",
       "    .dataframe thead th {\n",
       "        text-align: right;\n",
       "    }\n",
       "</style>\n",
       "<table border=\"1\" class=\"dataframe\">\n",
       "  <thead>\n",
       "    <tr style=\"text-align: right;\">\n",
       "      <th></th>\n",
       "      <th>level_quality</th>\n",
       "      <th>level_value</th>\n",
       "      <th>flow_quality</th>\n",
       "      <th>flow_value</th>\n",
       "    </tr>\n",
       "    <tr>\n",
       "      <th>end</th>\n",
       "      <th></th>\n",
       "      <th></th>\n",
       "      <th></th>\n",
       "      <th></th>\n",
       "    </tr>\n",
       "  </thead>\n",
       "  <tbody>\n",
       "    <tr>\n",
       "      <td>2018-01-01 00:01:00</td>\n",
       "      <td>100</td>\n",
       "      <td>1.2</td>\n",
       "      <td>100</td>\n",
       "      <td>0.333333</td>\n",
       "    </tr>\n",
       "    <tr>\n",
       "      <td>2018-01-01 00:02:00</td>\n",
       "      <td>100</td>\n",
       "      <td>1.2</td>\n",
       "      <td>100</td>\n",
       "      <td>0.333333</td>\n",
       "    </tr>\n",
       "    <tr>\n",
       "      <td>2018-01-01 00:03:00</td>\n",
       "      <td>100</td>\n",
       "      <td>1.2</td>\n",
       "      <td>100</td>\n",
       "      <td>0.333333</td>\n",
       "    </tr>\n",
       "  </tbody>\n",
       "</table>\n",
       "</div>"
      ],
      "text/plain": [
       "                     level_quality  level_value  flow_quality  flow_value\n",
       "end                                                                      \n",
       "2018-01-01 00:01:00            100          1.2           100    0.333333\n",
       "2018-01-01 00:02:00            100          1.2           100    0.333333\n",
       "2018-01-01 00:03:00            100          1.2           100    0.333333"
      ]
     },
     "execution_count": 6,
     "metadata": {},
     "output_type": "execute_result"
    }
   ],
   "source": [
    "df_join = df_Bokhoven_level_old.join(df_Bokhoven_flow_old, how=\"inner\")\n",
    "df_join.head(3)"
   ]
  },
  {
   "cell_type": "markdown",
   "metadata": {},
   "source": [
    "#### smoothing level data, from stepped to continous"
   ]
  },
  {
   "cell_type": "code",
   "execution_count": 7,
   "metadata": {},
   "outputs": [
    {
     "name": "stderr",
     "output_type": "stream",
     "text": [
      "863820it [01:08, 12670.26it/s]\n"
     ]
    }
   ],
   "source": [
    "df_join = ds.WaterLevelSmoothing(df_join)"
   ]
  },
  {
   "cell_type": "code",
   "execution_count": 8,
   "metadata": {},
   "outputs": [
    {
     "data": {
      "text/plain": [
       "<matplotlib.axes._subplots.AxesSubplot at 0x1f391a13c48>"
      ]
     },
     "execution_count": 8,
     "metadata": {},
     "output_type": "execute_result"
    },
    {
     "data": {
      "image/png": "[encoded data removed]",
      "text/plain": [
       "<Figure size 1152x576 with 3 Axes>"
      ]
     },
     "metadata": {
      "needs_background": "light"
     },
     "output_type": "display_data"
    }
   ],
   "source": [
    "mp.PlotMulti(\n",
    "    df_join[[\"level_value\", \"level_value_s\", \"flow_value\"]][4463:4700], figsize=(16, 8)\n",
    ")"
   ]
  },
  {
   "cell_type": "markdown",
   "metadata": {},
   "source": [
    "#### mark level-flow data if dry-day"
   ]
  },
  {
   "cell_type": "code",
   "execution_count": 9,
   "metadata": {},
   "outputs": [
    {
     "name": "stderr",
     "output_type": "stream",
     "text": [
      "863820it [01:33, 9228.61it/s] \n"
     ]
    }
   ],
   "source": [
    "df_join[\"end_hour\"] = df_join.index.ceil(\"h\")\n",
    "df_join[\"dry\"] = False\n",
    "for idx, row in tqdm(df_join.iterrows()):\n",
    "    if df_rain_historical.at[row[\"end_hour\"], target_col]:\n",
    "        df_join.at[idx, \"dry\"] = True"
   ]
  },
  {
   "cell_type": "code",
   "execution_count": 10,
   "metadata": {},
   "outputs": [
    {
     "data": {
      "text/html": [
       "<div>\n",
       "<style scoped>\n",
       "    .dataframe tbody tr th:only-of-type {\n",
       "        vertical-align: middle;\n",
       "    }\n",
       "\n",
       "    .dataframe tbody tr th {\n",
       "        vertical-align: top;\n",
       "    }\n",
       "\n",
       "    .dataframe thead th {\n",
       "        text-align: right;\n",
       "    }\n",
       "</style>\n",
       "<table border=\"1\" class=\"dataframe\">\n",
       "  <thead>\n",
       "    <tr style=\"text-align: right;\">\n",
       "      <th></th>\n",
       "      <th>level_quality</th>\n",
       "      <th>level_value</th>\n",
       "      <th>flow_quality</th>\n",
       "      <th>flow_value</th>\n",
       "      <th>level_diff</th>\n",
       "      <th>level_value_s</th>\n",
       "      <th>level_diff_s</th>\n",
       "      <th>end_hour</th>\n",
       "      <th>dry</th>\n",
       "      <th>adj_level_diff_s</th>\n",
       "    </tr>\n",
       "    <tr>\n",
       "      <th>end</th>\n",
       "      <th></th>\n",
       "      <th></th>\n",
       "      <th></th>\n",
       "      <th></th>\n",
       "      <th></th>\n",
       "      <th></th>\n",
       "      <th></th>\n",
       "      <th></th>\n",
       "      <th></th>\n",
       "      <th></th>\n",
       "    </tr>\n",
       "  </thead>\n",
       "  <tbody>\n",
       "    <tr>\n",
       "      <td>2018-01-06 17:01:00</td>\n",
       "      <td>100</td>\n",
       "      <td>0.4</td>\n",
       "      <td>100</td>\n",
       "      <td>0.333333</td>\n",
       "      <td>0.0</td>\n",
       "      <td>0.44</td>\n",
       "      <td>-0.02</td>\n",
       "      <td>2018-01-06 18:00:00</td>\n",
       "      <td>True</td>\n",
       "      <td>0.0</td>\n",
       "    </tr>\n",
       "    <tr>\n",
       "      <td>2018-01-06 17:02:00</td>\n",
       "      <td>100</td>\n",
       "      <td>0.4</td>\n",
       "      <td>100</td>\n",
       "      <td>0.333333</td>\n",
       "      <td>0.0</td>\n",
       "      <td>0.40</td>\n",
       "      <td>-0.04</td>\n",
       "      <td>2018-01-06 18:00:00</td>\n",
       "      <td>True</td>\n",
       "      <td>0.0</td>\n",
       "    </tr>\n",
       "    <tr>\n",
       "      <td>2018-01-06 17:03:00</td>\n",
       "      <td>100</td>\n",
       "      <td>0.3</td>\n",
       "      <td>100</td>\n",
       "      <td>0.333333</td>\n",
       "      <td>-0.1</td>\n",
       "      <td>0.35</td>\n",
       "      <td>-0.05</td>\n",
       "      <td>2018-01-06 18:00:00</td>\n",
       "      <td>True</td>\n",
       "      <td>0.0</td>\n",
       "    </tr>\n",
       "  </tbody>\n",
       "</table>\n",
       "</div>"
      ],
      "text/plain": [
       "                     level_quality  level_value  flow_quality  flow_value  \\\n",
       "end                                                                         \n",
       "2018-01-06 17:01:00            100          0.4           100    0.333333   \n",
       "2018-01-06 17:02:00            100          0.4           100    0.333333   \n",
       "2018-01-06 17:03:00            100          0.3           100    0.333333   \n",
       "\n",
       "                     level_diff  level_value_s  level_diff_s  \\\n",
       "end                                                            \n",
       "2018-01-06 17:01:00         0.0           0.44         -0.02   \n",
       "2018-01-06 17:02:00         0.0           0.40         -0.04   \n",
       "2018-01-06 17:03:00        -0.1           0.35         -0.05   \n",
       "\n",
       "                               end_hour   dry  adj_level_diff_s  \n",
       "end                                                              \n",
       "2018-01-06 17:01:00 2018-01-06 18:00:00  True               0.0  \n",
       "2018-01-06 17:02:00 2018-01-06 18:00:00  True               0.0  \n",
       "2018-01-06 17:03:00 2018-01-06 18:00:00  True               0.0  "
      ]
     },
     "execution_count": 10,
     "metadata": {},
     "output_type": "execute_result"
    }
   ],
   "source": [
    "df_dry = df_join[\n",
    "    (df_join[\"dry\"])\n",
    "    & (df_join[\"level_quality\"] == 100)\n",
    "    & (df_join[\"flow_quality\"] == 100)\n",
    "].copy()\n",
    "\n",
    "df_dry[\"adj_level_diff_s\"] = df_dry[\"level_diff_s\"]\n",
    "df_dry.loc[(df_dry[\"adj_level_diff_s\"] < 0), \"adj_level_diff_s\"] = np.nan\n",
    "\n",
    "df_dry[\"adj_level_diff_s\"] = (\n",
    "    df_dry[\"adj_level_diff_s\"].ffill() + df_dry[\"adj_level_diff_s\"].bfill()\n",
    ") / 2\n",
    "df_dry[\"adj_level_diff_s\"] = df_dry[\"adj_level_diff_s\"].fillna(0)\n",
    "df_dry.head(3)"
   ]
  },
  {
   "cell_type": "markdown",
   "metadata": {},
   "source": [
    "#### estimate the how much volume (m3) water could increase 1 meter water level"
   ]
  },
  {
   "cell_type": "code",
   "execution_count": 11,
   "metadata": {},
   "outputs": [
    {
     "name": "stderr",
     "output_type": "stream",
     "text": [
      "623207it [01:40, 6201.57it/s]\n"
     ]
    },
    {
     "name": "stdout",
     "output_type": "stream",
     "text": [
      "every 1 meter waterlevel have 4.348602514328682 m3 water\n"
     ]
    }
   ],
   "source": [
    "def InitDict():\n",
    "    return {\n",
    "        \"up1\": None,\n",
    "        \"up2\": 0,\n",
    "        \"level_up\": 0,\n",
    "        \"out\": [],\n",
    "        \"start_level\": 0,\n",
    "        \"end_level\": 0,\n",
    "    }\n",
    "\n",
    "\n",
    "td = timedelta(minutes=1)\n",
    "t0 = datetime(1900, 1, 1)\n",
    "lst_m3_per_m = []\n",
    "dct = InitDict()\n",
    "for idx, row in tqdm(df_dry.iterrows()):\n",
    "    if idx - t0 > td:  # if time is continuous\n",
    "        dct = InitDict()\n",
    "    else:\n",
    "        if row[\"level_diff_s\"] < 0 and dct[\"up1\"] != 0:  # down after up\n",
    "            dct[\"out\"].append(row[\"flow_value\"])\n",
    "        if len(dct[\"out\"]) == 0:  # no pump-out be recorded\n",
    "            if row[\"level_diff_s\"] > 0:\n",
    "                if dct[\"up1\"] is None:\n",
    "                    dct[\"start_level\"] = row[\"level_value_s\"]\n",
    "                dct[\"up1\"] = row[\"level_diff_s\"]\n",
    "\n",
    "        else:\n",
    "            if row[\"level_diff_s\"] > 0:\n",
    "                dct[\"up2\"] = row[\"level_diff_s\"]\n",
    "                sss = np.sum(dct[\"out\"]) / (\n",
    "                    dct[\"level_up\"] - dct[\"end_level\"] + dct[\"start_level\"]\n",
    "                )\n",
    "                lst_m3_per_m.append(sss)  #  m3/m water-level\n",
    "                dct = InitDict()\n",
    "    t0 = idx\n",
    "    dct[\"end_level\"] = row[\"level_value_s\"]\n",
    "    dct[\"level_up\"] += row[\"adj_level_diff_s\"]\n",
    "\n",
    "avg_m3_per_m = np.average(lst_m3_per_m)\n",
    "print(f\"every 1 meter waterlevel have {avg_m3_per_m} m3 water\")"
   ]
  },
  {
   "cell_type": "code",
   "execution_count": null,
   "metadata": {},
   "outputs": [],
   "source": []
  }
 ],
 "metadata": {
  "kernelspec": {
   "display_name": "Python 3",
   "language": "python",
   "name": "python3"
  },
  "language_info": {
   "codemirror_mode": {
    "name": "ipython",
    "version": 3
   },
   "file_extension": ".py",
   "mimetype": "text/x-python",
   "name": "python",
   "nbconvert_exporter": "python",
   "pygments_lexer": "ipython3",
   "version": "3.7.4"
  }
 },
 "nbformat": 4,
 "nbformat_minor": 2
}
